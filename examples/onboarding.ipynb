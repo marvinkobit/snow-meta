{
 "cells": [
  {
   "cell_type": "code",
   "execution_count": null,
   "id": "c3b32449",
   "metadata": {},
   "outputs": [],
   "source": [
    "# Snowflake-META Onboarding Example\n",
    "# This notebook demonstrates how to onboard control table specs for Snowflake using Snowpark\n",
    "\n",
    "import sys\n",
    "import os\n",
    "import json\n",
    "import pandas as pd\n",
    "from snowflake.snowpark import Session\n",
    "from snowflake.snowpark.functions import col, lit\n",
    "from snowflake.snowpark.types import StructType, StructField, StringType, VariantType\n",
    "\n",
    "# Add the src directory to the path\n",
    "#sys.path.append(os.path.join(os.getcwd(), '..', 'src'))\n",
    "\n",
    "from src.onboard_controltable import OnboardControlTable\n",
    "from src.controltable_spec import ControlTableSpecUtils\n",
    "\n",
    "print(\"Snowflake-META Onboarding Example with Snowpark\")\n",
    "print(\"=\" * 50)\n"
   ]
  },
  {
   "cell_type": "code",
   "execution_count": null,
   "id": "71559cb5",
   "metadata": {},
   "outputs": [],
   "source": [
    "# Step 1: Get Snowpark Session from Notebook Warehouse\n",
    "# The session is automatically tied to the warehouse assigned to this notebook\n",
    "# No need for config files or manual connection setup\n",
    "\n",
    "# Get the current Snowpark session\n",
    "session = Session.builder.getOrCreate()\n",
    "print(\"Snowpark session established successfully!\")\n",
    "print(f\"Current warehouse: {session.get_current_warehouse()}\")\n",
    "print(f\"Current database: {session.get_current_database()}\")\n",
    "print(f\"Current schema: {session.get_current_schema()}\")\n",
    "\n",
    "\n"
   ]
  },
  {
   "cell_type": "code",
   "execution_count": null,
   "id": "3c9d9d91",
   "metadata": {},
   "outputs": [],
   "source": [
    "# Step 2: Define onboarding parameters\n",
    "onboarding_params_map = {\n",
    "    \"database\": \"RAW\",\n",
    "    \"schema\":\"SNOWMETA_CONFIG\",\n",
    "    \"onboarding_file_path\":'@\"RAW\".\"SNOWMETA_CONFIG\".\"MYSTAGE\"/onboarding/sample_onboarding_metadata.json',\n",
    "    \"bronze_control_table\": \"bronze_control_table\", \n",
    "    \"silver_control_table\": \"silver_control_table\",\n",
    "    \"overwrite\": \"True\",\n",
    "    \"env\": \"dev\",\n",
    "    \"version\": \"v1\",\n",
    "    \"import_author\": \"Maeruf\"\n",
    "}\n",
    "\n",
    "print(\"Onboarding parameters configured:\")\n",
    "for key, value in onboarding_params_map.items():\n",
    "    print(f\"  {key}: {value}\")"
   ]
  },
  {
   "cell_type": "code",
   "execution_count": null,
   "id": "a8203b91",
   "metadata": {},
   "outputs": [],
   "source": [
    "df_onboarding_file = session.read.json(onboarding_params_map['onboarding_file_path'])\n",
    "df_onboarding_file"
   ]
  },
  {
   "cell_type": "code",
   "execution_count": null,
   "id": "c6ed4986",
   "metadata": {},
   "outputs": [],
   "source": [
    "# Step 4: Initialize and run the onboarding process\n",
    "\n",
    "# Create the OnboardControlTable instance using Snowpark session\n",
    "onboard_control_table = OnboardControlTable(\n",
    "    session=session,\n",
    "    dict_obj=onboarding_params_map,\n",
    "    bronze_schema_mapper=None,  # Optional: custom schema mapper\n",
    "    horizon_enabled=True  # Set to True if using Horizon\n",
    ")\n",
    "\n",
    "print(\"OnboardControlTable instance created successfully!\")\n",
    "\n",
    "# Run the onboarding process\n",
    "try:\n",
    "    print(\"Starting onboarding process...\")\n",
    "    onboard_control_table.onboard_controltable_specs()\n",
    "    print(\"✅ Onboarding completed successfully!\")\n",
    "except Exception as e:\n",
    "    print(f\"❌ Onboarding failed: {str(e)}\")\n",
    "    raise\n"
   ]
  },
  {
   "cell_type": "code",
   "execution_count": null,
   "id": "c3e12bf1",
   "metadata": {},
   "outputs": [],
   "source": [
    "# Step 5: Verify the onboarding results\n",
    "\n",
    "# Get bronze control table specs\n",
    "print(\"Bronze Control Table Specs:\")\n",
    "print(\"-\" * 30)\n",
    "try:\n",
    "    bronze_specs = ControlTableSpecUtils.get_bronze_control_table_spec(session)\n",
    "    for spec in bronze_specs:\n",
    "        print(f\"DataFlow ID: {spec.dataFlowId}\")\n",
    "        print(f\"DataFlow Group: {spec.dataFlowGroup}\")\n",
    "        print(f\"Source Format: {spec.sourceFormat}\")\n",
    "        print(f\"Target Format: {spec.targetFormat}\")\n",
    "        print(f\"Version: {spec.version}\")\n",
    "        print(f\"Created By: {spec.createdBy}\")\n",
    "        print(\"-\" * 20)\n",
    "except Exception as e:\n",
    "    print(f\"Error retrieving bronze specs: {str(e)}\")\n",
    "\n",
    "print(\"\\nSilver Control Table Specs:\")\n",
    "print(\"-\" * 30)\n",
    "try:\n",
    "    silver_specs = ControlTableSpecUtils.get_silver_control_table_spec(session)\n",
    "    for spec in silver_specs:\n",
    "        print(f\"DataFlow ID: {spec.dataFlowId}\")\n",
    "        print(f\"DataFlow Group: {spec.dataFlowGroup}\")\n",
    "        print(f\"Source Format: {spec.sourceFormat}\")\n",
    "        print(f\"Target Format: {spec.targetFormat}\")\n",
    "        print(f\"Version: {spec.version}\")\n",
    "        print(f\"Created By: {spec.createdBy}\")\n",
    "        print(\"-\" * 20)\n",
    "except Exception as e:\n",
    "    print(f\"Error retrieving silver specs: {str(e)}\")\n"
   ]
  }
 ],
 "metadata": {
  "kernelspec": {
   "display_name": "deng",
   "language": "python",
   "name": "python3"
  },
  "language_info": {
   "name": "python",
   "version": "3.10.16"
  }
 },
 "nbformat": 4,
 "nbformat_minor": 5
}
