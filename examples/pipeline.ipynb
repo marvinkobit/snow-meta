{
 "cells": [
  {
   "cell_type": "code",
   "execution_count": null,
   "id": "26beb936",
   "metadata": {},
   "outputs": [],
   "source": [
    "# Snowflake-META Pipeline Reader Example\n",
    "# This notebook demonstrates how to read control table specs using ControlTableReader\n",
    "\n",
    "from snowflake.snowpark import Session\n",
    "from src.controltable_reader import ControlTableReader\n",
    "\n",
    "# Configure pipeline reader with control tables and optional filters\n",
    "pipeline_reader_config = {\n",
    "    \"bronze_control_table\": \"RAW.SNOWMETA_CONFIG.sample_bronze_control_table\",\n",
    "    \"silver_control_table\": \"RAW.SNOWMETA_CONFIG.sample_silver_control_table\",\n",
    "    \"group\": \"A1\"  # Optional: filter by data flow group\n",
    "}\n",
    "\n",
    "print(\"Pipeline Reader Configuration:\")\n",
    "for key, value in pipeline_reader_config.items():\n",
    "    print(f\"  {key}: {value}\")"
   ]
  },
  {
   "cell_type": "code",
   "execution_count": null,
   "id": "19599466",
   "metadata": {},
   "outputs": [],
   "source": [
    "# Step 1: Get Snowpark Session\n",
    "# The session is automatically tied to the warehouse assigned to this notebook\n",
    "session = Session.builder.getOrCreate()\n",
    "print(\"Snowpark session established successfully!\")\n",
    "print(f\"Current warehouse: {session.get_current_warehouse()}\")\n",
    "print(f\"Current database: {session.get_current_database()}\")\n",
    "print(f\"Current schema: {session.get_current_schema()}\")\n"
   ]
  },
  {
   "cell_type": "code",
   "execution_count": null,
   "id": "8fbce996",
   "metadata": {},
   "outputs": [],
   "source": [
    "# Step 2: Initialize ControlTableReader\n",
    "# Pass the session and pipeline_reader_config\n",
    "reader = ControlTableReader(\n",
    "    session=session,\n",
    "    pipeline_reader_config=pipeline_reader_config\n",
    ")\n",
    "\n",
    "print(\"✅ ControlTableReader initialized successfully!\")\n"
   ]
  },
  {
   "cell_type": "code",
   "execution_count": null,
   "id": "c4cb1879",
   "metadata": {},
   "outputs": [],
   "source": [
    "# Step 3: Get Bronze Control Table Specs\n",
    "# This will automatically use the \"group\" filter from the config (group=\"A1\")\n",
    "print(\"Reading Bronze Control Table Specs...\")\n",
    "print(\"-\" * 50)\n",
    "\n",
    "try:\n",
    "    bronze_specs = reader.get_bronze_specs()\n",
    "    print(f\"✅ Retrieved {len(bronze_specs)} bronze control table specs\")\n",
    "    print()\n",
    "    \n",
    "    for spec in bronze_specs:\n",
    "        print(f\"DataFlow ID: {spec.dataFlowId}\")\n",
    "        print(f\"DataFlow Group: {spec.dataFlowGroup}\")\n",
    "        print(f\"Source Format: {spec.sourceFormat}\")\n",
    "        print(f\"Source Details: {spec.sourceDetails}\")\n",
    "        print(f\"Target Format: {spec.targetFormat}\")\n",
    "        print(f\"Target Details: {spec.targetDetails}\")\n",
    "        print(f\"Version: {spec.version}\")\n",
    "        print(f\"Created By: {spec.createdBy}\")\n",
    "        print(\"-\" * 30)\n",
    "except Exception as e:\n",
    "    print(f\"❌ Error retrieving bronze specs: {str(e)}\")\n"
   ]
  },
  {
   "cell_type": "code",
   "execution_count": null,
   "id": "655974e6",
   "metadata": {},
   "outputs": [],
   "source": [
    "# Step 4: Get Silver Control Table Specs\n",
    "# This will automatically use the \"group\" filter from the config (group=\"A1\")\n",
    "print(\"Reading Silver Control Table Specs...\")\n",
    "print(\"-\" * 50)\n",
    "\n",
    "try:\n",
    "    silver_specs = reader.get_silver_specs()\n",
    "    print(f\"✅ Retrieved {len(silver_specs)} silver control table specs\")\n",
    "    print()\n",
    "    \n",
    "    for spec in silver_specs:\n",
    "        print(f\"DataFlow ID: {spec.dataFlowId}\")\n",
    "        print(f\"DataFlow Group: {spec.dataFlowGroup}\")\n",
    "        print(f\"Source Format: {spec.sourceFormat}\")\n",
    "        print(f\"Source Details: {spec.sourceDetails}\")\n",
    "        print(f\"Target Format: {spec.targetFormat}\")\n",
    "        print(f\"Target Details: {spec.targetDetails}\")\n",
    "        print(f\"Select Expression: {spec.selectExp}\")\n",
    "        print(f\"Where Clause: {spec.whereClause}\")\n",
    "        print(f\"Version: {spec.version}\")\n",
    "        print(f\"Created By: {spec.createdBy}\")\n",
    "        print(\"-\" * 30)\n",
    "except Exception as e:\n",
    "    print(f\"❌ Error retrieving silver specs: {str(e)}\")\n"
   ]
  },
  {
   "cell_type": "code",
   "execution_count": null,
   "id": "61964e7f",
   "metadata": {},
   "outputs": [],
   "source": [
    "# Step 5: Override filters (Optional)\n",
    "# You can override the group or dataflow_ids from the config\n",
    "print(\"Reading specs with different filters...\")\n",
    "print(\"-\" * 50)\n",
    "\n",
    "# Example 1: Get all bronze specs without group filter\n",
    "try:\n",
    "    all_bronze_specs = reader.get_bronze_specs(group=None)\n",
    "    print(f\"✅ Retrieved {len(all_bronze_specs)} bronze specs (all groups)\")\n",
    "except Exception as e:\n",
    "    print(f\"❌ Error: {str(e)}\")\n",
    "\n",
    "print()\n",
    "\n",
    "# Example 2: Get specs for a different group\n",
    "try:\n",
    "    group_b_specs = reader.get_bronze_specs(group=\"B1\")\n",
    "    print(f\"✅ Retrieved {len(group_b_specs)} bronze specs (group B1)\")\n",
    "except Exception as e:\n",
    "    print(f\"❌ Error: {str(e)}\")\n",
    "\n",
    "print()\n",
    "\n",
    "# Example 3: Get specs for specific dataflow IDs\n",
    "try:\n",
    "    specific_specs = reader.get_bronze_specs(dataflow_ids=\"id_1001,id_1002\")\n",
    "    print(f\"✅ Retrieved {len(specific_specs)} bronze specs (specific IDs)\")\n",
    "except Exception as e:\n",
    "    print(f\"❌ Error: {str(e)}\")\n"
   ]
  },
  {
   "cell_type": "code",
   "execution_count": null,
   "id": "9f8d4723",
   "metadata": {
    "vscode": {
     "languageId": "plaintext"
    }
   },
   "outputs": [],
   "source": []
  }
 ],
 "metadata": {
  "language_info": {
   "name": "python"
  }
 },
 "nbformat": 4,
 "nbformat_minor": 5
}
