{
 "cells": [
  {
   "cell_type": "code",
   "execution_count": null,
   "id": "26beb936",
   "metadata": {},
   "outputs": [],
   "source": [
    "# Snowflake-META Control Table Reader Example\n",
    "from snowflake.snowpark import Session\n",
    "from src.controltable_reader import ControlTableReader\n",
    "\n",
    "# Get Snowpark Session\n",
    "session = Session.builder.getOrCreate()\n",
    "print(\"Snowpark session established!\")"
   ]
  },
  {
   "cell_type": "code",
   "execution_count": null,
   "id": "19599466",
   "metadata": {},
   "outputs": [],
   "source": [
    "# Initialize ControlTableReader\n",
    "reader = ControlTableReader(\n",
    "    session=session,\n",
    "    bronze_control_table=\"RAW.SNOWMETA_CONFIG.sample_bronze_control_table\",\n",
    "    silver_control_table=\"RAW.SNOWMETA_CONFIG.sample_silver_control_table\"\n",
    ")\n",
    "print(\"ControlTableReader initialized!\")\n"
   ]
  },
  {
   "cell_type": "code",
   "execution_count": null,
   "id": "8fbce996",
   "metadata": {},
   "outputs": [],
   "source": [
    "# Get Bronze Control Table Specs\n",
    "bronze_specs = reader.get_bronze_control_table()\n",
    "\n",
    "print(f\"Retrieved {len(bronze_specs)} bronze control table specs\")\n",
    "for spec in bronze_specs:\n",
    "    print(f\"  - {spec.dataFlowId}: {spec.dataFlowGroup}\")\n"
   ]
  },
  {
   "cell_type": "code",
   "execution_count": null,
   "id": "c4cb1879",
   "metadata": {},
   "outputs": [],
   "source": [
    "# Get Silver Control Table Specs\n",
    "silver_specs = reader.get_silver_control_table()\n",
    "\n",
    "print(f\"Retrieved {len(silver_specs)} silver control table specs\")\n",
    "for spec in silver_specs:\n",
    "    print(f\"  - {spec.dataFlowId}: {spec.dataFlowGroup}\")\n"
   ]
  }
 ],
 "metadata": {
  "language_info": {
   "name": "python"
  }
 },
 "nbformat": 4,
 "nbformat_minor": 5
}
