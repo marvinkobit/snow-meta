{
 "metadata": {
  "language_info": {
   "name": "python"
  },
  "lastEditStatus": {
   "notebookId": "khrvxvlzcuscob6rpqqp",
   "authorId": "177682127101",
   "authorName": "MNASSIR",
   "authorEmail": "maeruf.nassir@nexsis.ca",
   "sessionId": "08a44cce-6864-4ece-a958-93e34b639b20",
   "lastEditTime": 1759841827566
  }
 },
 "nbformat_minor": 5,
 "nbformat": 4,
 "cells": [
  {
   "cell_type": "code",
   "execution_count": null,
   "id": "330ec335-2df9-4d96-9880-ecdef70601a3",
   "metadata": {
    "name": "cell1",
    "language": "python"
   },
   "outputs": [],
   "source": [
    "# Snowflake-META Pipeline Reader Example\n",
    "# This notebook demonstrates how to read control table specs using ControlTableReader\n",
    "import sys\n",
    "import os\n",
    "import json\n",
    "\n",
    "from snowflake.snowpark import Session\n",
    "from src.controltable_reader import ControlTableReader\n",
    "from src.snowmeta_pipeline import SnowmetaPipeline\n",
    "\n",
    "# Configure pipeline reader with control tables and optional filters\n",
    "pipeline_reader_config = {\n",
    "    \"bronze_control_table\": \"RAW.SNOWMETA_CONFIG.sample_bronze_control_table\",\n",
    "    \"silver_control_table\": \"RAW.SNOWMETA_CONFIG.sample_silver_control_table\",\n",
    "    \"group\": \"A1\"  # Optional: filter by data flow group\n",
    "}\n",
    "\n",
    "print(\"Pipeline Reader Configuration:\")\n",
    "for key, value in pipeline_reader_config.items():\n",
    "    print(f\"  {key}: {value}\")"
   ]
  },
  {
   "cell_type": "code",
   "execution_count": null,
   "id": "f98ea8e7-6cfa-496e-96a6-696bdb85b579",
   "metadata": {
    "name": "cell2",
    "language": "python"
   },
   "outputs": [],
   "source": [
    "# Step 1: Get Snowpark Session\n",
    "# The session is automatically tied to the warehouse assigned to this notebook\n",
    "session = Session.builder.getOrCreate()\n",
    "print(\"Snowpark session established successfully!\")\n",
    "warehouse = session.get_current_warehouse()\n",
    "print(f\"Current warehouse: {warehouse}\")\n",
    "\n"
   ]
  },
  {
   "cell_type": "code",
   "execution_count": null,
   "id": "ddc470a5-f850-4e41-8e2b-2632bb5fbcd4",
   "metadata": {
    "name": "cell3",
    "language": "python"
   },
   "outputs": [],
   "source": [
    "# Step 2: Initialize ControlTableReader\n",
    "# Pass the session and pipeline_reader_config\n",
    "reader = ControlTableReader(\n",
    "            session=session,\n",
    "            bronze_control_table=\"RAW.SNOWMETA_CONFIG.sample_bronze_control_table\",\n",
    "            silver_control_table=\"RAW.SNOWMETA_CONFIG.sample_silver_control_table\"\n",
    "        )\n",
    "bronze_specs = reader.get_bronze_control_table()\n",
    "silver_specs = reader.get_silver_control_table()\n",
    "\n",
    "print(\"✅ ControlTable Read successfully!\")\n"
   ]
  },
  {
   "cell_type": "code",
   "execution_count": null,
   "id": "a28b32e0-3617-4c02-89c0-ba3ef43d7c90",
   "metadata": {
    "name": "cell4",
    "language": "python"
   },
   "outputs": [],
   "source": [
    "pipeline = SnowmetaPipeline(session=session)\n",
    "pipeline.invoke_bronze_pipeline(pipeline_bronze_control_table)"
   ]
  },
  {
   "cell_type": "code",
   "execution_count": null,
   "id": "838e1dfd-9c13-4420-8545-6285e1d9202c",
   "metadata": {
    "name": "cell5",
    "language": "python"
   },
   "outputs": [],
   "source": [
    "pipeline = SnowmetaPipeline(session=session)\n",
    "pipeline.invoke_bronze_pipeline(pipeline_bronze_control_table)"
   ]
  },
  {
   "cell_type": "code",
   "execution_count": null,
   "id": "a76cc91f-6fd8-42c6-900c-31e4f0b2a75b",
   "metadata": {
    "name": "cell6",
    "language": "python"
   },
   "outputs": [],
   "source": [
    "pipeline_bronze_control_table = [\n",
    "    {\n",
    "        \"source_table\": \"Banks_2022_2023_raw\",\n",
    "        \"source_path_dev\": \"@RAW.ETBANKSFINANCIAL.LANDING/\",\n",
    "        \"reader_format\": \"CSV\",\n",
    "        \"bronze_database_dev\": \"ANALYTICS\",\n",
    "        \"bronze_schema\": \"FINANCIAL_BRONZE\",\n",
    "        \"bronze_table\": \"Banks_2022_2023\"\n",
    "    },\n",
    "    {\n",
    "        \"source_table\": \"Insurance_2022_2023_raw\",\n",
    "        \"source_path_dev\": \"@RAW.ETBANKSFINANCIAL.LANDING/\",\n",
    "        \"reader_format\": \"CSV\",\n",
    "        \"bronze_database_dev\": \"ANALYTICS\",\n",
    "        \"bronze_schema\": \"FINANCIAL_BRONZE\",\n",
    "        \"bronze_table\": \"Insurance_2022_2023\"\n",
    "    },\n",
    "    {\n",
    "        \"source_table\": \"Banks_2023_2024_raw\",\n",
    "        \"source_path_dev\": \"@RAW.ETBANKSFINANCIAL.LANDING/\",\n",
    "        \"reader_format\": \"CSV\",\n",
    "        \"bronze_database_dev\": \"ANALYTICS\",\n",
    "        \"bronze_schema\": \"FINANCIAL_BRONZE\",\n",
    "        \"bronze_table\": \"Banks_2023_2024\"\n",
    "    },\n",
    "    {\n",
    "        \"source_table\": \"Insurance_2023_2024_raw\",\n",
    "        \"source_path_dev\": \"@RAW.ETBANKSFINANCIAL.LANDING/\",\n",
    "        \"reader_format\": \"CSV\",\n",
    "        \"bronze_database_dev\": \"ANALYTICS\",\n",
    "        \"bronze_schema\": \"FINANCIAL_BRONZE\",\n",
    "        \"bronze_table\": \"Insurance_2023_2024\"\n",
    "    }\n",
    "]"
   ]
  },
  {
   "cell_type": "code",
   "execution_count": null,
   "id": "c9b67d4d-6511-4482-a9ef-bad30559433c",
   "metadata": {
    "name": "cell7",
    "language": "python"
   },
   "outputs": [],
   "source": [
    "pipeline_silver_control_table = [\n",
    "    {\n",
    "        \"bronze_database_dev\": \"ANALYTICS\",\n",
    "        \"bronze_schema\": \"FINANCIAL_BRONZE\",\n",
    "        \"bronze_table\": \"Banks_2022_2023\",\n",
    "        \"silver_database_dev\": \"ANALYTICS\",\n",
    "        \"silver_schema\": \"FINANCIAL_SILVER\",\n",
    "        \"silver_table\": \"Banks_2022_2023\",\n",
    "        \"silver_cdc_apply_changes\": {\n",
    "            \"keys\": [\"Banks\"],\n",
    "            \"sequence_by\": \"SN\",\n",
    "            \"scd_type\": \"1\"\n",
    "        }\n",
    "    },\n",
    "    {\n",
    "        \"bronze_database_dev\": \"ANALYTICS\",\n",
    "        \"bronze_schema\": \"FINANCIAL_BRONZE\",\n",
    "        \"bronze_table\": \"Insurance_2022_2023\",\n",
    "        \"silver_database_dev\": \"ANALYTICS\",\n",
    "        \"silver_schema\": \"FINANCIAL_SILVER\",\n",
    "        \"silver_table\": \"Insurance_2022_2023\",\n",
    "        \"silver_cdc_apply_changes\": {\n",
    "            \"keys\": [\"Insurers\"],\n",
    "            \"sequence_by\": \"SN\",\n",
    "            \"scd_type\": \"1\"\n",
    "        }\n",
    "    },\n",
    "    {\n",
    "        \"bronze_database_dev\": \"ANALYTICS\",\n",
    "        \"bronze_schema\": \"FINANCIAL_BRONZE\",\n",
    "        \"bronze_table\": \"Banks_2023_2024\",\n",
    "        \"silver_database_dev\": \"ANALYTICS\",\n",
    "        \"silver_schema\": \"FINANCIAL_SILVER\",\n",
    "        \"silver_table\": \"Banks_2023_2024\",\n",
    "        \"silver_cdc_apply_changes\": {\n",
    "            \"keys\": [\"Banks\"],\n",
    "            \"sequence_by\": \"SN\",\n",
    "            \"scd_type\": \"1\"\n",
    "        }\n",
    "    },\n",
    "    {\n",
    "        \"bronze_database_dev\": \"ANALYTICS\",\n",
    "        \"bronze_schema\": \"FINANCIAL_BRONZE\",\n",
    "        \"bronze_table\": \"Insurance_2023_2024\",\n",
    "        \"silver_database_dev\": \"ANALYTICS\",\n",
    "        \"silver_schema\": \"FINANCIAL_SILVER\",\n",
    "        \"silver_table\": \"Insurance_2023_2024\",\n",
    "        \"silver_cdc_apply_changes\": {\n",
    "            \"keys\": [\"Insurers\"],\n",
    "            \"sequence_by\": \"SN\",\n",
    "            \"scd_type\": \"1\"\n",
    "        }\n",
    "    }\n",
    "]\n"
   ]
  },
  {
   "cell_type": "code",
   "execution_count": null,
   "id": "7d89958c-79c1-4c63-a380-27a80f3609c1",
   "metadata": {
    "vscode": {
     "languageId": "sql"
    },
    "name": "cell8",
    "language": "sql"
   },
   "outputs": [],
   "source": [
    "CREATE OR REPLACE FILE FORMAT RAW.SNOWMETA_CONFIG.CSV_FILE_FORMAT_INFER\n",
    "TYPE = CSV\n",
    "FIELD_DELIMITER=','\n",
    "FIELD_OPTIONALLY_ENCLOSED_BY = '\"'\n",
    "PARSE_HEADER = TRUE\n",
    "ERROR_ON_COLUMN_COUNT_MISMATCH = FALSE;\n",
    "\n",
    "CREATE OR REPLACE FILE FORMAT RAW.SNOWMETA_CONFIG.CSV_FILE_FORMAT\n",
    "TYPE = CSV\n",
    "FIELD_DELIMITER=','\n",
    "FIELD_OPTIONALLY_ENCLOSED_BY = '\"'\n",
    "SKIP_HEADER = 1\n",
    "ERROR_ON_COLUMN_COUNT_MISMATCH = FALSE;"
   ]
  }
 ]
}